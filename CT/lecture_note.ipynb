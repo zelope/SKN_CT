{
 "cells": [
  {
   "cell_type": "markdown",
   "metadata": {},
   "source": [
    "# 코팅 테스트 알고리즘 및 개념 정리\n",
    "- 기본적인 순서는 <이것이 코딩테스트다> 참고"
   ]
  },
  {
   "cell_type": "markdown",
   "metadata": {},
   "source": [
    "## 블로그"
   ]
  },
  {
   "cell_type": "markdown",
   "metadata": {},
   "source": [
    "https://skmouse.tistory.com/entry/%EC%BD%94%EB%94%A9%ED%85%8C%EC%8A%A4%ED%8A%B8-%EA%B3%B5%EB%B6%80%EB%B0%A9%EB%B2%95"
   ]
  },
  {
   "cell_type": "markdown",
   "metadata": {},
   "source": [
    "https://go2gym365.tistory.com/71"
   ]
  },
  {
   "cell_type": "markdown",
   "metadata": {},
   "source": [
    "[이것이 코딩테스트다 깃허브](https://github.com/ndb796/python-for-coding-test)"
   ]
  },
  {
   "cell_type": "markdown",
   "metadata": {},
   "source": [
    "## 입출력방식"
   ]
  },
  {
   "cell_type": "markdown",
   "metadata": {},
   "source": [
    "### 1. 입력이 한 줄에 하나씩 들어옴\n",
    "정확히는, 입력이 한 줄에, 공백구분 없이 한번에 들어옴"
   ]
  },
  {
   "cell_type": "code",
   "execution_count": null,
   "metadata": {},
   "outputs": [],
   "source": [
    "N = int(input()) # N = 5\n",
    "\n",
    "for _ in range(N):\n",
    "\tprint(input()) # 이후의 입력을 한 줄씩 프린트"
   ]
  },
  {
   "cell_type": "code",
   "execution_count": null,
   "metadata": {},
   "outputs": [],
   "source": [
    "#개수가 적거나 각각을 구분해야한다면, 그냥 input 여러번 쓰면 된다\n",
    "A = input()\n",
    "B = input()\n",
    "C = input()"
   ]
  },
  {
   "cell_type": "markdown",
   "metadata": {},
   "source": [
    "### 2. 입력이 한 줄에 여러개씩 들어옴\n",
    "정확히는 구분되어 들어옴"
   ]
  },
  {
   "cell_type": "code",
   "execution_count": null,
   "metadata": {},
   "outputs": [],
   "source": [
    "data = list(map(int, input().split()))"
   ]
  },
  {
   "cell_type": "markdown",
   "metadata": {},
   "source": [
    "### 3. 파일 입출력"
   ]
  },
  {
   "cell_type": "code",
   "execution_count": null,
   "metadata": {},
   "outputs": [],
   "source": [
    "import sys\n",
    "sys.stdin = open(\"input.txt\", 'r')"
   ]
  },
  {
   "cell_type": "markdown",
   "metadata": {},
   "source": [
    "### 4. 빠르게 입력받기"
   ]
  },
  {
   "cell_type": "code",
   "execution_count": null,
   "metadata": {},
   "outputs": [],
   "source": [
    "# 공백으로 구분된 2개 숫자\n",
    "n,m = map(int, sys.stdin.readline().split())"
   ]
  },
  {
   "cell_type": "code",
   "execution_count": null,
   "metadata": {},
   "outputs": [],
   "source": [
    "# 2차원 리스트 입력받기\n",
    "board = [list(map(int,sys.stdin.readline().split())) for _ in range(n)]"
   ]
  },
  {
   "cell_type": "code",
   "execution_count": null,
   "metadata": {},
   "outputs": [],
   "source": [
    "# 문자열 입력받기\n",
    "data = sys.stdin.readline().rstrip()"
   ]
  },
  {
   "cell_type": "markdown",
   "metadata": {},
   "source": [
    "### 5. N x M 크기의 이차원 리스트 초기화 및 입력받기\n",
    "-> 시뮬레이션 문제"
   ]
  },
  {
   "cell_type": "code",
   "execution_count": null,
   "metadata": {},
   "outputs": [],
   "source": [
    "# 공백으로 구분된 2개 숫자\n",
    "n,m = map(int, sys.stdin.readline().split())\n",
    "\n",
    "# 방문을 체크하는 배열\n",
    "visited  = [[False] * m for _ in range(n)]\n",
    "\n",
    "# 2차원 리스트 입력받기\n",
    "board = [list(map(int,sys.stdin.readline().split())) for _ in range(n)]"
   ]
  },
  {
   "cell_type": "markdown",
   "metadata": {},
   "source": [
    "### 리스트 출력\n",
    "- 리스트 출력시 대괄호 제거하기 : print(*list)"
   ]
  },
  {
   "cell_type": "markdown",
   "metadata": {},
   "source": [
    "## 파이썬"
   ]
  },
  {
   "cell_type": "markdown",
   "metadata": {},
   "source": [
    "### 정규표현식"
   ]
  },
  {
   "cell_type": "markdown",
   "metadata": {},
   "source": [
    "- (문자열) 필터링 관련 나오면 무조건!"
   ]
  },
  {
   "cell_type": "code",
   "execution_count": null,
   "metadata": {},
   "outputs": [],
   "source": [
    "import re\n",
    "# 또한 명시적으로 raw-string 형태로 써주는 것이 좋다"
   ]
  },
  {
   "cell_type": "markdown",
   "metadata": {},
   "source": [
    "##### [ ] : 문자클래스"
   ]
  },
  {
   "cell_type": "markdown",
   "metadata": {},
   "source": [
    "- [a,b,c] : a,b,c 중 하나   \n",
    "- [0-9] : 0부터 9까지 숫자   \n",
    "- [a-zA-Z] : 알파벳 소문자, 대문자 모두   "
   ]
  },
  {
   "cell_type": "markdown",
   "metadata": {},
   "source": [
    "문자 클래스 안에 ^가 들어가면 not의 의미임   \n",
    "- [^0-9] : 숫자가 아닌 것만 매치    "
   ]
  },
  {
   "cell_type": "markdown",
   "metadata": {},
   "source": [
    "##### 문자클래스 대체"
   ]
  },
  {
   "cell_type": "markdown",
   "metadata": {},
   "source": [
    "- \\d - 숫자와 매치, [0-9]와 동일한 표현식이다.   \n",
    "- \\D - 숫자가 아닌 것과 매치, [^0-9]와 동일한 표현식이다.   \n",
    "- \\s - whitespace 문자와 매치, [ \\t\\n\\r\\f\\v]와 동일한 표현식이다. 맨 앞의 빈 칸은 공백문자(space)를 의미한다.   \n",
    "- \\S - whitespace 문자가 아닌 것과 매치, [^ \\t\\n\\r\\f\\v]와 동일한 표현식이다.   \n",
    "- \\w - 문자+숫자(alphanumeric)와 매치, [a-zA-Z0-9_]와 동일한 표현식이다.   \n",
    "- \\W - 문자+숫자(alphanumeric)가 아닌 문자와 매치, [^a-zA-Z0-9_]와 동일한 표현식이다.   "
   ]
  },
  {
   "cell_type": "markdown",
   "metadata": {},
   "source": [
    "##### . (dot)"
   ]
  },
  {
   "cell_type": "markdown",
   "metadata": {},
   "source": [
    "\\n을 제외한 모든 문자와 매치"
   ]
  },
  {
   "cell_type": "markdown",
   "metadata": {},
   "source": [
    ".이 문자클래스 []안에 들어가면 모든문자가 아닌 . 자체를 의미함   \n",
    "- a[.]b : a.b 를 뜻함"
   ]
  },
  {
   "cell_type": "markdown",
   "metadata": {},
   "source": [
    "##### 반복"
   ]
  },
  {
   "cell_type": "markdown",
   "metadata": {},
   "source": [
    "- \\* : 0번 이상 반복   \n",
    "- \\+ : 1번 이상 반복\n",
    "- {n} or {n, m} : 특정 횟수 또는 구간 반복\n",
    "- \\? : 0번 또는 1번 "
   ]
  },
  {
   "cell_type": "markdown",
   "metadata": {},
   "source": [
    "##### 기타"
   ]
  },
  {
   "cell_type": "markdown",
   "metadata": {},
   "source": [
    "- | : or\n",
    "- ^ : 문자열의 맨 처음과 일치함을 의미\n",
    "    - ^a : a가 맨 처음에 와야함\n",
    "- $ : 문자열의 맨 끝과 일치함을 의미\n",
    "    - $b : b가 맨 끝에 와야함\n",
    "- grouping () : 여러 문자를 묶을때"
   ]
  },
  {
   "cell_type": "markdown",
   "metadata": {},
   "source": [
    "#### 자주 사용되는 함수"
   ]
  },
  {
   "cell_type": "markdown",
   "metadata": {},
   "source": [
    "##### 1. sub"
   ]
  },
  {
   "cell_type": "markdown",
   "metadata": {},
   "source": [
    "re.sub(문자열, 바꿀 기호, 문자열 변수)   \n",
    ": 문자열 변수에서 문자열이 있으면 바꿀기호로 바꾸겠다"
   ]
  },
  {
   "cell_type": "code",
   "execution_count": null,
   "metadata": {},
   "outputs": [],
   "source": [
    "ans = 'I hate MAD MONSTER!!'\n",
    "ans = re.sub('hate', 'love', ans)\n",
    "print(ans) # I love MAD MONSTER!!"
   ]
  },
  {
   "cell_type": "markdown",
   "metadata": {},
   "source": [
    "##### 2. search"
   ]
  },
  {
   "cell_type": "markdown",
   "metadata": {},
   "source": [
    "문자열 전체를 검색하여 정규식과 매치되는지 조사 -> match 객체 반환"
   ]
  },
  {
   "cell_type": "code",
   "execution_count": null,
   "metadata": {},
   "outputs": [],
   "source": [
    "exp = \"50*6-3*2\"\n",
    "m = re.search('[0-9]+\\*[0-9]+', exp)\n",
    "print(m) # <re.Match object; span=(0, 4), match='50*6'>\n",
    "print(m[0]) # '50*6'\n",
    "print(m.group()) # '50*6'"
   ]
  },
  {
   "cell_type": "markdown",
   "metadata": {},
   "source": [
    "##### **3. findall**"
   ]
  },
  {
   "cell_type": "markdown",
   "metadata": {},
   "source": [
    "정규식과 매치되는 모든 문자열(substring)을 리스트로 반환"
   ]
  },
  {
   "cell_type": "code",
   "execution_count": null,
   "metadata": {},
   "outputs": [],
   "source": [
    "exp = \"50*6-3*2\"\n",
    "oper = re.findall('\\+|\\*|-', exp)\n",
    "print(oper) # ['\\*', '-', '\\*']"
   ]
  },
  {
   "cell_type": "markdown",
   "metadata": {},
   "source": [
    "##### **4. split**"
   ]
  },
  {
   "cell_type": "markdown",
   "metadata": {},
   "source": [
    "문자열 패턴으로 분리하여 리스트로 반환"
   ]
  },
  {
   "cell_type": "code",
   "execution_count": null,
   "metadata": {},
   "outputs": [],
   "source": [
    "s = 'd at,a'\n",
    "l = re.split(r'[ ,]', s) \n",
    "print(l) #['d', 'at', 'a']\n",
    "\n",
    "#구분자도 결과 list에 포함시키고 싶다면 괄호로 묶으면 된다!\n",
    "\n",
    "l = re.split(r'([ ,])', s) \n",
    "print(l) #['d', ' ', 'at', ',', 'a']"
   ]
  },
  {
   "cell_type": "markdown",
   "metadata": {},
   "source": [
    "### 내장함수"
   ]
  },
  {
   "cell_type": "markdown",
   "metadata": {},
   "source": [
    "##### eval"
   ]
  },
  {
   "cell_type": "code",
   "execution_count": null,
   "metadata": {},
   "outputs": [],
   "source": [
    "result = eval(expression:str)"
   ]
  },
  {
   "cell_type": "markdown",
   "metadata": {},
   "source": [
    "- expression:   \n",
    "&emsp;type &rightarrow; str <br>\n",
    "&emsp;내용 &rightarrow; 수식<br><br>\n",
    "-result:      \n",
    "&emsp;type &rightarrow; int<br>\n",
    "&emsp;내용 &rightarrow; 수식의 결과"
   ]
  },
  {
   "cell_type": "code",
   "execution_count": null,
   "metadata": {
    "vscode": {
     "languageId": "plaintext"
    }
   },
   "outputs": [],
   "source": []
  },
  {
   "cell_type": "markdown",
   "metadata": {},
   "source": [
    "## 그리디(탐욕) 알고리즘"
   ]
  },
  {
   "cell_type": "markdown",
   "metadata": {},
   "source": [
    "## 구현"
   ]
  },
  {
   "cell_type": "markdown",
   "metadata": {},
   "source": [
    "머릿속으로 떠올린 풀이를 소스코드로 작성하는 구현(Implementation) 알고리즘 문제는 크게 3가지\n",
    "- 완전탐색   \n",
    "모든 경우의 수를 주저 없이 다 계산하는 해결 방법   \n",
    "- 시뮬레이션   \n",
    "문제에서 제시한 알고리즘을 한 단계씩 차례대로 직접 수행해야하는 문제\n",
    "- 라이브러리   \n",
    "특정 라이브러리를 사용해 주어진 문제해결"
   ]
  },
  {
   "cell_type": "markdown",
   "metadata": {},
   "source": [
    "### 1. 완전탐색 (부르트포스)   \n",
    "- 가능한 모든 경우를 하나씩 다 세면 된다. \n",
    "- 겁먹지 말고, 증가시키면서 확인하면 된다."
   ]
  },
  {
   "cell_type": "markdown",
   "metadata": {},
   "source": [
    "**for문과 if문을 적절하게 이용하여 구성**"
   ]
  },
  {
   "cell_type": "markdown",
   "metadata": {},
   "source": [
    "##### 예제"
   ]
  },
  {
   "cell_type": "markdown",
   "metadata": {},
   "source": [
    "정수 N이 입력되면 00시 00분 00초부터 N시 59분 59초까지의 모든 시각 중에서   \n",
    "3이 하나라도 포함되는 모든 경우의 수를 구하는 프로그램을 작성하시오.    \n",
    "예를 들어 1을 입력했을 때, 다음은 3이 하나라도 포함되어 있으므로 세어야 하는 시각이다.   \n",
    "- 00시 00분 03초   \n",
    "- 00시 13분 30초"
   ]
  },
  {
   "cell_type": "code",
   "execution_count": null,
   "metadata": {},
   "outputs": [],
   "source": [
    "h = int(input())\n",
    "\n",
    "count = 0\n",
    "for i in range(h+1):\n",
    "    for j in range(60):\n",
    "        for k in range(60):\n",
    "            if '3' in str(i) + str(j) + str(k): #3이 하나라도 포함되도록 한다.\n",
    "             count+=1\n",
    "print(count)"
   ]
  },
  {
   "cell_type": "markdown",
   "metadata": {},
   "source": [
    "##### 시간복잡도"
   ]
  },
  {
   "cell_type": "markdown",
   "metadata": {},
   "source": [
    "부르트포스 알고리즘은 당연히 다 하나하나 세는 것이기 때문에, 시간복잡도에 대한 고민이 생긴다 <br>\n",
    "시간 복잡도는 복잡한 개념이지만, 부르트포스에서는 이것만 알자 <br><br>\n",
    "\n",
    ">1. N의 범위가 500인 경우: 시간 복잡도가 O(N^3)인 알고리즘을 설계하면 문제를 풀 수 있다.\n",
    ">2. N의 범위가 2,000인 경우: 시간 복잡도가 O(N^2)인 알고리즘을 설계하면 문제를 풀 수 있다."
   ]
  },
  {
   "cell_type": "markdown",
   "metadata": {},
   "source": [
    "### 2. 시뮬레이션 문제\n",
    "보통 2차원 배열 (visitied)와 방향벡터가 필요한 경우가 많다"
   ]
  },
  {
   "cell_type": "markdown",
   "metadata": {},
   "source": [
    "##### 예제"
   ]
  },
  {
   "cell_type": "markdown",
   "metadata": {},
   "source": [
    "여행자 A는 N x N 크기의 정사각형 공간 위에 서 있습니다. 이 공간은 1 x 1 크기의 정사각형으로 나누어져 있습니다.   \n",
    "가장 왼쪽 위 좌표는 (1,1)이며, 가장 오른쪽 아래 좌표는 (N, N)입니다.   \n",
    "여행가 A는 상,하,좌,우 방향으로 이동할 수 있으며 시작 좌표는 항상 (1,1)입니다. 우리 앞에 여행가 A가 이동할 계획이 적힌 계획서가 놓여 있습니다.   \n",
    "계획서에는 하나의 줄에 띄어쓰기를 기준으로 하여 L,R,U,D 중 하나의 문자가 반복적으로 적혀 있습니다.   \n",
    "L : 왼쪽으로 한 칸 이동   \n",
    "R : 오른쪽으로 한 칸 이동   \n",
    "U : 위로 한 칸 이동   \n",
    "D : 아래로 한 칸 이동\n",
    "\n",
    "시간 제한 : 2초, 메모리 제한 : 128MB   \n",
    "입력 조건 : 첫째 줄에 공간의 크기를 나타내는 N이 주어집니다. (1<=N <= 100)   \n",
    "둘째 줄에 여행가 A가 이동할 계획서 내용이 주어집니다. (1<=이동 횟수 <=100)   \n",
    "출력 조건 : 첫째 줄에 여행가 A가 최종적으로 도착할 지점의 좌표 (X,Y)를 공백을 기준으로 구분하여 출력합니다."
   ]
  },
  {
   "cell_type": "code",
   "execution_count": null,
   "metadata": {},
   "outputs": [],
   "source": [
    "# N 입력 받기\n",
    "n = int(input())\n",
    "x,y =1,1\n",
    "plans = input.split()\n",
    "\n",
    "#L,R,U,D에 따른 이동 방향 설정\n",
    "dx = [0, 0, -1, 1]\n",
    "dy = [-1, 1, 0, 0]\n",
    "move_types = ['L', 'R', 'U', 'D']\n",
    "\n",
    "#이동 계획을 하나씩 확인하기\n",
    "for plans in plans:\n",
    "\t#이동 후 좌표 구하기\n",
    "    for i in range(len(move_types)):\n",
    "    \tif plan==move_types[i]:\n",
    "        \tnx = x + dx[i]\n",
    "            ny = y + dy[i]\n",
    "    # 공간을 벗어나는 경우 무시\n",
    "    if nx < 1 or ny < 1 or nx> n or ny > n:\n",
    "    \tcontinue\n",
    "    #이동 수행\n",
    "    x, y = nx, ny \n",
    "print (x,y) "
   ]
  },
  {
   "cell_type": "markdown",
   "metadata": {},
   "source": [
    "### 3. 라이브러리 활용\n",
    "&rightarrow; 파이썬 항목 참조"
   ]
  },
  {
   "cell_type": "markdown",
   "metadata": {},
   "source": [
    "## DFS / BFS\n",
    "- 스택 / 큐\n",
    "- 재귀\n",
    "- DFS\n",
    "- BFS"
   ]
  },
  {
   "cell_type": "markdown",
   "metadata": {},
   "source": [
    "### 스택 / 큐"
   ]
  },
  {
   "cell_type": "markdown",
   "metadata": {},
   "source": [
    "스택(stack) <br>\n",
    "- FILO : First In Last Out ~~프링글스~~\n",
    "- 리스트(또는 배열)로 구현 : \n",
    "- In &rightarrow; .append(), Out &rightarrow; .pop()  "
   ]
  },
  {
   "cell_type": "markdown",
   "metadata": {
    "vscode": {
     "languageId": "html"
    }
   },
   "source": [
    "- FILO <br>\n",
    "<img src=\"./img/FILO.gif\" height = \"200\" />"
   ]
  },
  {
   "cell_type": "markdown",
   "metadata": {},
   "source": [
    "큐(Queue) <br>\n",
    "- FIFO : First In First Out \n",
    "- deque로 구현 ( from collections import deque )\n",
    "- In &rightarrow; .append(), Out &rightarrow; .popleft()\n",
    " "
   ]
  },
  {
   "cell_type": "markdown",
   "metadata": {},
   "source": [
    "- FIFO <br>\n",
    "<img src=\"./img/FIFO.gif\" height = \"200\" />"
   ]
  },
  {
   "cell_type": "markdown",
   "metadata": {},
   "source": [
    "### 재귀함수\n",
    "- 재귀함수는 반드시 종료 조건이 있어야 한다   \n",
    "- 재귀함수를 활용한 알고리즘   \n",
    "DFS, DP, 분할정복, 백트래킹, 조합 탐색"
   ]
  },
  {
   "cell_type": "markdown",
   "metadata": {},
   "source": [
    "### DFS\n",
    "- 깊은 부분을 우선적으로 탐색하는 알고리즘이다   \n",
    "- DFS는 스택 자료구조(혹은 재귀 함수)를 이용    \n",
    "\n",
    "1. 탐색 시작 노드를 스택에 삽입하고 방문 처리를 한다\n",
    "2. 스택의 최상단 노드에 인접한 노드 중, 방문하지 않는 노드가 하나라도 있으면 그 노드를 스택에 넣고 방문 처리한다\n",
    "3. 방문하지 않은 인접 노드가 없으면 스택에서 최상단 노드를 꺼낸다\n",
    "4. 더 이상 2번의 과정을 수행할 수 없을 때까지 <br>\n",
    "즉, 모든 노드를 방문할때까지 반복한다"
   ]
  },
  {
   "cell_type": "markdown",
   "metadata": {},
   "source": [
    "<img src=\"./img/DFS.gif\" height = \"200\" />"
   ]
  },
  {
   "cell_type": "markdown",
   "metadata": {},
   "source": [
    "##### 코드"
   ]
  },
  {
   "cell_type": "markdown",
   "metadata": {},
   "source": [
    "<img src=\"./img/DFS_graph.png\" height = \"200\" />"
   ]
  },
  {
   "cell_type": "code",
   "execution_count": null,
   "metadata": {},
   "outputs": [],
   "source": [
    "# DFS 함수 정의\n",
    "def dfs(graph, v, visited):\n",
    "    # 현재 노드를 방문 처리\n",
    "    visited[v] = True\n",
    "    print(v, end=' ')\n",
    "    # 현재 노드와 연결된 다른 노드를 재귀적으로 방문\n",
    "    for i in graph[v]:\n",
    "        if not visited[i]: # visited[i] = Fasle, 즉 방문하지 않았다면\n",
    "            dfs(graph, i, visited) #재귀\n",
    "    #종료조건이 없어보이지만, for문을 모두 수행하면 함수가 종료된다\n",
    "            \n",
    "\n",
    "# 각 노드가 연결된 정보를 리스트 자료형으로 표현(2차원 리스트)\n",
    "# 아래 그래프는 일반적인 입력형태\n",
    "\n",
    "graph = [\n",
    "  [],\n",
    "  [2, 3, 8],\n",
    "  [1, 7],\n",
    "  [1, 4, 5],\n",
    "  [3, 5],\n",
    "  [3, 4],\n",
    "  [7],\n",
    "  [2, 6, 8],\n",
    "  [1, 7]\n",
    "]\n",
    "\n",
    "# 각 노드가 방문된 정보를 리스트 자료형으로 표현(1차원 리스트)\n",
    "visited = [False] * 9\n",
    "\n",
    "# 정의된 DFS 함수 호출\n",
    "# \n",
    "dfs(graph, 1, visited)"
   ]
  },
  {
   "cell_type": "markdown",
   "metadata": {},
   "source": [
    "### BFS\n",
    "- 가까운 노드부터 우선적으로 탐색하는 알고리즘이다   \n",
    "- BFS는  큐 자료구조를 이용    \n",
    "\n",
    "1. 탐색 시작 노드를 큐에 삽입하고 방문 처리를 합니다\n",
    "2. 큐에서 노드를 꺼낸 뒤에 해당 노드의 인접 노드 중에서 방문하지 않은 노드를 모두 큐에 삽입하고 방문 처리한다\n",
    "3. 더 이상 2번의 과정을 수행할 수 없을 때까지 반복한다"
   ]
  },
  {
   "cell_type": "markdown",
   "metadata": {},
   "source": [
    "<img src=\"./img/BFS.gif\" height = \"200\" />\n"
   ]
  },
  {
   "cell_type": "markdown",
   "metadata": {},
   "source": [
    "##### 코드"
   ]
  },
  {
   "cell_type": "markdown",
   "metadata": {},
   "source": [
    "<img src=\"./img/DFS_graph.png\" height = \"200\" />"
   ]
  },
  {
   "cell_type": "code",
   "execution_count": null,
   "metadata": {},
   "outputs": [],
   "source": [
    "from collections import deque\n",
    "\n",
    "# BFS 함수 정의\n",
    "def bfs(graph, start, visited):\n",
    "    # 큐(Queue) 구현을 위해 deque 라이브러리 사용\n",
    "    queue = deque([start])\n",
    "    # 현재 노드를 방문 처리\n",
    "    visited[start] = True\n",
    "    # 큐가 빌 때까지 반복\n",
    "    while queue:\n",
    "        # 큐에서 하나의 원소를 뽑아 출력\n",
    "        v = queue.popleft()\n",
    "        print(v, end=' ')\n",
    "        # 해당 원소와 연결된, 아직 방문하지 않은 원소들을 큐에 삽입\n",
    "        for i in graph[v]:\n",
    "            if not visited[i]:\n",
    "                queue.append(i)\n",
    "                visited[i] = True\n",
    "\n",
    "# 각 노드가 연결된 정보를 리스트 자료형으로 표현(2차원 리스트)\n",
    "graph = [\n",
    "  [],\n",
    "  [2, 3, 8],\n",
    "  [1, 7],\n",
    "  [1, 4, 5],\n",
    "  [3, 5],\n",
    "  [3, 4],\n",
    "  [7],\n",
    "  [2, 6, 8],\n",
    "  [1, 7]\n",
    "]\n",
    "\n",
    "# 각 노드가 방문된 정보를 리스트 자료형으로 표현(1차원 리스트)\n",
    "visited = [False] * 9\n",
    "\n",
    "# 정의된 BFS 함수 호출\n",
    "bfs(graph, 1, visited)"
   ]
  },
  {
   "cell_type": "markdown",
   "metadata": {},
   "source": [
    "### DFS 문제와 BFS 문제 구분\n",
    "\n",
    "\n",
    "- 경로 탐색과 모든 해결책 탐색:   \n",
    "DFS가 적합: 깊이 있는 경로를 먼저 탐색하며, 가능한 모든 해결책을 탐색합니다.   \n",
    "\n",
    "- 최단 경로 문제:   \n",
    "BFS가 적합: 가중치가 없는 그래프에서 최단 경로를 찾습니다.   \n",
    "\n",
    "- 특정 구조 분석:   \n",
    "DFS가 적합: 사이클 탐지, 연결 요소 찾기 등 구조 분석 문제.    \n",
    "\n",
    "- 레벨별 탐색:   \n",
    "BFS가 적합: 그래프의 각 레벨을 탐색하거나 특정 레벨까지의 노드를 탐색할 때."
   ]
  },
  {
   "cell_type": "markdown",
   "metadata": {},
   "source": [
    "## 정렬"
   ]
  },
  {
   "cell_type": "markdown",
   "metadata": {},
   "source": [
    "## 이진탐색"
   ]
  },
  {
   "cell_type": "markdown",
   "metadata": {},
   "source": [
    "## DP(동적 프로그래밍)"
   ]
  },
  {
   "cell_type": "markdown",
   "metadata": {},
   "source": [
    "## 최단경로"
   ]
  },
  {
   "cell_type": "markdown",
   "metadata": {},
   "source": [
    "## 기타 그래프이론"
   ]
  },
  {
   "cell_type": "markdown",
   "metadata": {},
   "source": [
    "## 투 포인터 (슬라이딩 윈도우)"
   ]
  },
  {
   "cell_type": "markdown",
   "metadata": {},
   "source": [
    "## 트리 (및 백트래킹)"
   ]
  },
  {
   "cell_type": "markdown",
   "metadata": {},
   "source": [
    "## 우선순위 큐와 힙"
   ]
  },
  {
   "cell_type": "markdown",
   "metadata": {},
   "source": []
  }
 ],
 "metadata": {
  "language_info": {
   "name": "python"
  }
 },
 "nbformat": 4,
 "nbformat_minor": 2
}
