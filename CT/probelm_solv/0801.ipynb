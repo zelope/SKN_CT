{
 "cells": [
  {
   "cell_type": "markdown",
   "metadata": {},
   "source": [
    "# BJ 28702번 - FizzBuzz"
   ]
  },
  {
   "cell_type": "markdown",
   "metadata": {},
   "source": [
    "- https://www.acmicpc.net/problem/28702"
   ]
  },
  {
   "cell_type": "markdown",
   "metadata": {},
   "source": [
    "### 문제 "
   ]
  },
  {
   "cell_type": "markdown",
   "metadata": {},
   "source": [
    "#### 문제"
   ]
  },
  {
   "cell_type": "markdown",
   "metadata": {},
   "source": [
    "FizzBuzz 문제는 \n",
    "$i = 1, 2, \\cdots$ 에 대해 다음 규칙에 따라 문자열을 한 줄에 하나씩 출력하는 문제입니다.\n",
    "\n",
    " \n",
    "- i가 3의 배수이면서 5의 배수이면 “FizzBuzz”를 출력합니다.\n",
    " \n",
    "- i가 3의 배수이지만 5의 배수가 아니면 “Fizz”를 출력합니다.\n",
    " \n",
    "- i가 3의 배수가 아니지만 5의 배수이면 “Buzz”를 출력합니다.\n",
    " \n",
    "- i가 3의 배수도 아니고 5의 배수도 아닌 경우 i를 그대로 출력합니다. <br>\n",
    "\n",
    "\n",
    "FizzBuzz 문제에서 연속으로 출력된 세 개의 문자열이 주어집니다. 이때, 이 세 문자열 다음에 올 문자열은 무엇일까요?"
   ]
  },
  {
   "cell_type": "markdown",
   "metadata": {},
   "source": [
    "#### 입력"
   ]
  },
  {
   "cell_type": "markdown",
   "metadata": {},
   "source": [
    "FizzBuzz 문제에서 연속으로 출력된 세 개의 문자열이 한 줄에 하나씩 주어집니다. <br>각 문자열의 길이는 \n",
    "8 이하입니다. <br>입력이 항상 FizzBuzz 문제에서 연속으로 출력된 세 개의 문자열에 대응됨이 보장됩니다."
   ]
  },
  {
   "cell_type": "markdown",
   "metadata": {},
   "source": [
    "#### 출력"
   ]
  },
  {
   "cell_type": "markdown",
   "metadata": {},
   "source": [
    "연속으로 출력된 세 개의 문자열 다음에 올 문자열을 출력하세요. <br>여러 문자열이 올 수 있는 경우, 아무거나 하나 출력하세요."
   ]
  },
  {
   "cell_type": "markdown",
   "metadata": {},
   "source": [
    "### 코드"
   ]
  },
  {
   "cell_type": "code",
   "execution_count": null,
   "metadata": {},
   "outputs": [],
   "source": [
    "# 입력이 3개가 주어지는데, Fizz + * 는 3의 배수와 관련있음으로, \n",
    "# 입력 3개 중 하나는 반드시 숫자이다\n",
    "\n",
    "\n",
    "for i in range(3,0,-1):\n",
    "    \"\"\" 첫번째 Input이 숫자면 +3, 두번째 Input이 숫자면 +2, 세번째 Input이 숫자면 +1을 해야하므로\n",
    "        -1(역순)을 적용\n",
    "    \"\"\"\n",
    "    x = input()\n",
    "    if x.isdigit():\n",
    "        number = int(x) + i\n",
    "if number % 15 == 0:\n",
    "    answer = \"FizzBuzz\"\n",
    "elif number % 3 == 0:\n",
    "    answer = \"Fizz\"\n",
    "elif number % 5 ==0:\n",
    "    answer = \"Buzz\"\n",
    "else:\n",
    "    answer = str(number)\n",
    "\n",
    "print(answer)"
   ]
  }
 ],
 "metadata": {
  "language_info": {
   "name": "python"
  }
 },
 "nbformat": 4,
 "nbformat_minor": 2
}
