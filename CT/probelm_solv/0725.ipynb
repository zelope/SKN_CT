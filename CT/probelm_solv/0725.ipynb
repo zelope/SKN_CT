{
 "cells": [
  {
   "cell_type": "markdown",
   "metadata": {},
   "source": [
    "# 0725 프로그래머스 PCCE 10번 문제"
   ]
  },
  {
   "cell_type": "markdown",
   "metadata": {},
   "source": [
    "## 문제 설명"
   ]
  },
  {
   "cell_type": "markdown",
   "metadata": {},
   "source": [
    "##### 문제"
   ]
  },
  {
   "cell_type": "markdown",
   "metadata": {},
   "source": [
    "\n",
    "철수와 영희는 수학 시간에 계산기를 사용하지 않고 수식을 계산하는 방법을 배우고 있습니다. 선생님은 두 사람에게 문자열로 된 수식을 주고 이를 차례대로 계산하는 프로그램을 작성하라는 과제를 내주었습니다.   \n",
    "   \n",
    "근데 철수는 우등생이라 수식을 계산을 제대로 할 줄 알지만,   \n",
    "영희는 수업시간에 졸아서 수식을 왼쪽에서 오른쪽으로 순서대로 계산하고 있습니다   \n",
    "철수와 영희가 낸 정답을 순서대로 출력하세요"
   ]
  },
  {
   "cell_type": "markdown",
   "metadata": {},
   "source": [
    "##### 규칙"
   ]
  },
  {
   "cell_type": "markdown",
   "metadata": {},
   "source": [
    "1. 수식은 공백 없이 한 줄로 주어집니다.     \n",
    "2. 수식에는 양의 정수와 사칙연산자(+, -, *, /)만 포함됩니다.    \n",
    "3. 연산자는 공백 없이 숫자와 인접해 있습니다.\n",
    "4. 영희는 수식은 왼쪽에서 오른쪽으로 순서대로 계산합니다. 즉, 수학적 우선순위를 따르지 않습니다.     \n",
    "\n",
    "- 입력 형식\n",
    "하나의 문자열로 주어진 수식이 입력됩니다. (예: \"12+34*5-6/2\")\n",
    "- 출력 형식\n",
    "철수, 영희 순으로 출력합니다"
   ]
  },
  {
   "cell_type": "markdown",
   "metadata": {},
   "source": [
    "## 풀이 "
   ]
  },
  {
   "cell_type": "code",
   "execution_count": null,
   "metadata": {},
   "outputs": [],
   "source": [
    "# 철수 : 문자열로 받은 정보를 수학적 우선 순위로 계산 -> eval\n",
    "# 영희 : 숫자와 연산자를 구분해야함. 심지어 문자로 들어오기 때문에 숫자는 묶어서 구분\n",
    "#         -> 정규표현식"
   ]
  },
  {
   "cell_type": "code",
   "execution_count": null,
   "metadata": {},
   "outputs": [],
   "source": [
    "import re\n",
    "\n",
    "\n",
    "def solve(expression:str):\n",
    "    m_ans = eval(expression)\n",
    "    #문자열을 수식 계산\n",
    "    \n",
    "    token = re.findall(r'\\d+|\\+|\\-|\\*|\\/',expression)\n",
    "    # \\d+ or + or - or * or / 과 매칭되는 것들을 찾아서 리스트로 반환\n",
    "    # \\d+ 는 한개 이상의 숫자로 이루어진 것\n",
    "    print(token)\n",
    "    \n",
    "    f_ans = int(token[0])\n",
    "    for tag in range(1,len(token),2):\n",
    "        if token[tag] == \"+\":\n",
    "            f_ans += int(token[tag+1])\n",
    "        elif token[tag] == \"-\":\n",
    "            f_ans -= int(token[tag+1])\n",
    "        elif token[tag] == \"*\":\n",
    "            f_ans *= int(token[tag+1])\n",
    "        elif token[tag] == \"/\":\n",
    "            f_ans /= int(token[tag+1])\n",
    "        else:\n",
    "            pass\n",
    "    \n",
    "    return m_ans, f_ans\n",
    "\n",
    "if __name__ == \"__main__\":\n",
    "    \n",
    "    male, female = solve(\"123+45*2-8/4\")\n",
    "    \n",
    "    print(f'철수 : {male}')\n",
    "    print(f'영희 : {female}')"
   ]
  }
 ],
 "metadata": {
  "language_info": {
   "name": "python"
  }
 },
 "nbformat": 4,
 "nbformat_minor": 2
}
