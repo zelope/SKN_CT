{
 "cells": [
  {
   "cell_type": "markdown",
   "metadata": {},
   "source": [
    "# BJ 2579번 계단"
   ]
  },
  {
   "cell_type": "markdown",
   "metadata": {},
   "source": [
    "- https://www.acmicpc.net/problem/2579"
   ]
  },
  {
   "cell_type": "markdown",
   "metadata": {},
   "source": [
    "## 문제 설명"
   ]
  },
  {
   "cell_type": "markdown",
   "metadata": {},
   "source": [
    "### 문제"
   ]
  },
  {
   "cell_type": "markdown",
   "metadata": {},
   "source": [
    "길어서 생략"
   ]
  },
  {
   "cell_type": "markdown",
   "metadata": {},
   "source": [
    "### 입력"
   ]
  },
  {
   "cell_type": "markdown",
   "metadata": {},
   "source": [
    "입력의 첫째 줄에 계단의 개수가 주어진다.\n",
    "\n",
    "둘째 줄부터 한 줄에 하나씩 제일 아래에 놓인 계단부터 순서대로 각 계단에 쓰여 있는 점수가 주어진다. 계단의 개수는 300이하의 자연수이고, 계단에 쓰여 있는 점수는 10,000이하의 자연수이다."
   ]
  },
  {
   "cell_type": "markdown",
   "metadata": {},
   "source": [
    "### 출력"
   ]
  },
  {
   "cell_type": "markdown",
   "metadata": {},
   "source": [
    "첫째 줄에 계단 오르기 게임에서 얻을 수 있는 총 점수의 최댓값을 출력한다."
   ]
  },
  {
   "cell_type": "markdown",
   "metadata": {},
   "source": [
    "## SOLV"
   ]
  },
  {
   "cell_type": "markdown",
   "metadata": {},
   "source": [
    "### 아이디어 / img by [다임하게](https://daimhada.tistory.com/181)"
   ]
  },
  {
   "cell_type": "markdown",
   "metadata": {},
   "source": [
    "<img src=\"../../img/BJ_2579/idea1.webp\" height = \"250\" />"
   ]
  },
  {
   "cell_type": "markdown",
   "metadata": {},
   "source": [
    "<img src=\"../../img/BJ_2579/idea2.webp\" height = \"350\" />"
   ]
  },
  {
   "cell_type": "markdown",
   "metadata": {},
   "source": [
    "### code"
   ]
  },
  {
   "cell_type": "code",
   "execution_count": null,
   "metadata": {},
   "outputs": [],
   "source": [
    "\n",
    "def main():\n",
    "    n = int(input())\n",
    "    \n",
    "    P = [0] * 305 #계단 정보\n",
    "    D = [[0] * 3 for _ in range(305)] # 경로 정보\n",
    "    \n",
    "    #계단 정보 삽입\n",
    "    for i in range(1, n + 1):\n",
    "        P[i] = int(input())\n",
    "    \n",
    "    # 첫번째 계단은 안 밟아도 상관 없지만, \n",
    "    # 마지막 계단은 무조건 밟아야 함으로 마지막 계단부터 시작해서\n",
    "    # 내려온다고 생각하자 \n",
    "    \n",
    "    #초기값 설정\n",
    "    D[n][1] = P[n]\n",
    "    D[n][2] = P[n]\n",
    "    D[n - 1][1] = P[n] + P[n - 1] #n-1계단을 밟은 경우\n",
    "    D[n - 1][2] = 0 # n-1 계단을 안 밟은 경우\n",
    "    \n",
    "    for i in range(n - 2, 0, -1): #계단 내려가는 걸로 바꾸었으니까\n",
    "        D[i][1] = max(D[i + 1][2], D[i + 2][1]) + P[i]\n",
    "        D[i][2] = D[i + 2][1] + P[i]\n",
    "    \n",
    "    print(max(D[1][1], D[2][1]))\n",
    "\n",
    "if __name__ == \"__main__\":\n",
    "    main()"
   ]
  },
  {
   "cell_type": "markdown",
   "metadata": {},
   "source": [
    "#### 다임하게 code "
   ]
  },
  {
   "cell_type": "code",
   "execution_count": null,
   "metadata": {},
   "outputs": [],
   "source": [
    "import sys\n",
    "\n",
    "input = sys.stdin.readline\n",
    "\n",
    "n = int(input())\n",
    "\n",
    "# 계단의 숫자를 초기화 합니다. 1층은 1번째(not 0번째) 인덱스에 저장합니다.\n",
    "stairs = [0] * 301\n",
    "for i in range(1, n + 1):\n",
    "    stairs[i] = int(input())\n",
    "\n",
    "# dp 배열을 초기화합니다.\n",
    "dp = [0] * 301\n",
    "dp[1] = stairs[1]\n",
    "dp[2] = stairs[1] + stairs[2]\n",
    "dp[3] = max(stairs[1] + stairs[3], stairs[2] + stairs[3])\n",
    "\n",
    "# 점화식을 계산합니다.\n",
    "for i in range(4, n + 1):\n",
    "    dp[i] = max(dp[i - 3] + stairs[i - 1] + stairs[i], dp[i - 2] + stairs[i])\n",
    "\n",
    "print(dp[n])"
   ]
  }
 ],
 "metadata": {
  "language_info": {
   "name": "python"
  }
 },
 "nbformat": 4,
 "nbformat_minor": 2
}
