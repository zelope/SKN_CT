{
 "cells": [
  {
   "cell_type": "markdown",
   "metadata": {},
   "source": [
    "# BJ 14502 번 - 연구소"
   ]
  },
  {
   "cell_type": "markdown",
   "metadata": {},
   "source": [
    "- https://www.acmicpc.net/problem/14502"
   ]
  },
  {
   "cell_type": "markdown",
   "metadata": {},
   "source": [
    "### 문제 "
   ]
  },
  {
   "cell_type": "markdown",
   "metadata": {},
   "source": [
    "#### 문제"
   ]
  },
  {
   "cell_type": "markdown",
   "metadata": {},
   "source": [
    "인체에 치명적인 바이러스를 연구하던 연구소에서 바이러스가 유출되었다. 다행히 바이러스는 아직 퍼지지 않았고, 바이러스의 확산을 막기 위해서 연구소에 벽을 세우려고 한다.\n",
    "\n",
    "연구소는 크기가 N×M인 직사각형으로 나타낼 수 있으며, 직사각형은 1×1 크기의 정사각형으로 나누어져 있다. 연구소는 빈 칸, 벽으로 이루어져 있으며, 벽은 칸 하나를 가득 차지한다. \n",
    "\n",
    "일부 칸은 바이러스가 존재하며, 이 바이러스는 상하좌우로 인접한 빈 칸으로 모두 퍼져나갈 수 있다. 새로 세울 수 있는 벽의 개수는 3개이며, 꼭 3개를 세워야 한다."
   ]
  },
  {
   "cell_type": "markdown",
   "metadata": {},
   "source": [
    "#### 입력"
   ]
  },
  {
   "cell_type": "markdown",
   "metadata": {},
   "source": [
    "첫째 줄에 지도의 세로 크기 N과 가로 크기 M이 주어진다. (3 ≤ N, M ≤ 8)\n",
    "\n",
    "둘째 줄부터 N개의 줄에 지도의 모양이 주어진다. 0은 빈 칸, 1은 벽, 2는 바이러스가 있는 위치이다. 2의 개수는 2보다 크거나 같고, 10보다 작거나 같은 자연수이다.\n",
    "\n",
    "빈 칸의 개수는 3개 이상이다."
   ]
  },
  {
   "cell_type": "markdown",
   "metadata": {},
   "source": [
    "#### 출력"
   ]
  },
  {
   "cell_type": "markdown",
   "metadata": {},
   "source": [
    "첫째 줄에 얻을 수 있는 안전 영역의 최대 크기를 출력한다."
   ]
  },
  {
   "cell_type": "markdown",
   "metadata": {},
   "source": [
    "### 코드"
   ]
  },
  {
   "cell_type": "markdown",
   "metadata": {},
   "source": [
    "#### 오답"
   ]
  },
  {
   "cell_type": "code",
   "execution_count": null,
   "metadata": {},
   "outputs": [],
   "source": [
    "#입력 받고 -> 정렬하고\n",
    "# 위 아래 0.15씩 반올림한 만큼 삭제 \n",
    "# 평균 구하고 역시 반올림\n",
    "N = int(input())\n",
    "if N==0:\n",
    "    answer = 0\n",
    "else:\n",
    "    #입력받고\n",
    "    score_list = [int(input()) for _ in range(N)]\n",
    "    #정렬하고\n",
    "    score_list.sort()\n",
    "    #위 아래 0.15씩 삭제하고\n",
    "    trim = round(N*0.15)\n",
    "    trimed_list = score_list[trim:-1*trim]\n",
    "    if len(trimed_list) != 0:\n",
    "        #평균 구하고\n",
    "        avg = sum(trimed_list)/len(trimed_list)\n",
    "\n",
    "        #평균도 반올림하고\n",
    "        answer = round(avg)\n",
    "    else:\n",
    "        answer = 0 \n",
    "print(answer)"
   ]
  },
  {
   "cell_type": "markdown",
   "metadata": {},
   "source": [
    "인 줄 알았는데....... <br>\n",
    "\n",
    "![image.png](../img/18110%20error.png) <br>\n",
    "\n",
    "?"
   ]
  },
  {
   "cell_type": "markdown",
   "metadata": {},
   "source": [
    "#### 정답"
   ]
  },
  {
   "cell_type": "markdown",
   "metadata": {},
   "source": [
    "lecture_note.ipynb에 더 자세하게 적어놓았지만, <br>\n",
    "파이썬에서 반올림할 때 사용하는 round()는 우리가 아는 반올림이 아니다 ( ~~???~~ ) <br>\n",
    "그래서 함수 직접 만들어야됨"
   ]
  },
  {
   "cell_type": "code",
   "execution_count": null,
   "metadata": {},
   "outputs": [],
   "source": [
    "#시간초과로 한번 더 틀려서 sys로 한번 더 뜯어 고친건 안 비밀\n",
    "import sys\n",
    "\n",
    "def my_round(val):\n",
    "  if val - int(val) >= 0.5:\n",
    "    return int(val)+1\n",
    "  else:\n",
    "    return int(val)\n",
    "\n",
    "N = int(sys.stdin.readline().strip())\n",
    "if N:\n",
    "  score_list = [int(sys.stdin.readline().strip()) for _ in range(N)]\n",
    "\n",
    "  trim = my_round(N*0.15)\n",
    "  score_list.sort()\n",
    "  \n",
    "  print(my_round(sum(score_list[trim:N-trim])/len(score_list[trim:N-trim])))\n",
    "else:\n",
    "  print(0)"
   ]
  }
 ],
 "metadata": {
  "language_info": {
   "name": "python"
  }
 },
 "nbformat": 4,
 "nbformat_minor": 2
}
