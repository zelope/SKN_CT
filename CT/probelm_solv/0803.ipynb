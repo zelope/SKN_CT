{
 "cells": [
  {
   "cell_type": "markdown",
   "metadata": {},
   "source": [
    "# BJ 2108번 - 통계학"
   ]
  },
  {
   "cell_type": "markdown",
   "metadata": {},
   "source": [
    "- https://www.acmicpc.net/problem/2108"
   ]
  },
  {
   "cell_type": "code",
   "execution_count": null,
   "metadata": {},
   "outputs": [],
   "source": [
    "import sys\n",
    "input=sys.stdin.readline\n",
    "\n",
    "n=int(input())\n",
    "arr=[]\n",
    "\n",
    "for i in range(n):\n",
    "    arr.append(int(input()))\n",
    "\n",
    "arr.sort()#중앙값을 구하기 위해 정렬\n",
    "\n",
    "print(round(sum(arr)/len(arr)))#1) 산술평균\n",
    "print(arr[len(arr)//2])#2) 중앙값\n",
    "\n",
    "#최빈값\n",
    "dic=dict()\n",
    "for i in arr:#빈도수 구하기\n",
    "    if i in dic:\n",
    "        dic[i]+=1\n",
    "    else:\n",
    "        dic[i]=1\n",
    "        \n",
    "mx=max(dic.values())#빈도수 중 최대값 구하기\n",
    "mx_dic=[]#최빈값 숫자를 저장할 배열\n",
    "\n",
    "for i in dic:#빈도수 딕셔너리에서\n",
    "    if mx==dic[i]:#최빈값의 key저장\n",
    "        mx_dic.append(i)\n",
    "\n",
    "if len(mx_dic)>1:#최빈값이 여러개라면\n",
    "    print(mx_dic[1])#두번째로 작은 값  3)최빈값\n",
    "else:#하나라면\n",
    "    print(mx_dic[0])#해당 값 출력  3)최빈값\n",
    "    \n",
    "print(max(arr)-min(arr))#4) 범위"
   ]
  }
 ],
 "metadata": {
  "language_info": {
   "name": "python"
  }
 },
 "nbformat": 4,
 "nbformat_minor": 2
}
