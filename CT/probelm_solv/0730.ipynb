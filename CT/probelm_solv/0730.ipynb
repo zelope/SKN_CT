{
 "cells": [
  {
   "cell_type": "markdown",
   "metadata": {},
   "source": [
    "# BJ 2798번 - 블랙잭"
   ]
  },
  {
   "cell_type": "markdown",
   "metadata": {},
   "source": [
    "- https://www.acmicpc.net/problem/2798"
   ]
  },
  {
   "cell_type": "markdown",
   "metadata": {},
   "source": [
    "- 대표적인 브루트포스 알고리즘 문제"
   ]
  },
  {
   "cell_type": "markdown",
   "metadata": {},
   "source": [
    "## 문제"
   ]
  },
  {
   "cell_type": "markdown",
   "metadata": {},
   "source": [
    "### 문제"
   ]
  },
  {
   "cell_type": "markdown",
   "metadata": {},
   "source": [
    "카지노에서 제일 인기 있는 게임 블랙잭의 규칙은 상당히 쉽다. 카드의 합이 21을 넘지 않는 한도 내에서, <br/>카드의 합을 최대한 크게 만드는 게임이다. 블랙잭은 카지노마다 다양한 규정이 있다. <br/><br/>\n",
    "\n",
    "한국 최고의 블랙잭 고수 김정인은 새로운 블랙잭 규칙을 만들어 상근, 창영이와 게임하려고 한다. <br/>\n",
    "\n",
    "김정인 버전의 블랙잭에서 각 카드에는 양의 정수가 쓰여 있다. 그 다음, 딜러는 N장의 카드를 <br/>모두 숫자가 보이도록 바닥에 놓는다. 그런 후에 딜러는 숫자 M을 크게 외친다.<br/>\n",
    "\n",
    "이제 플레이어는 제한된 시간 안에 N장의 카드 중에서 3장의 카드를 골라야 한다. 블랙잭 변형 게임이기 때문에,<br/> 플레이어가 고른 카드의 합은 M을 넘지 않으면서 M과 최대한 가깝게 만들어야 한다.<br/>\n",
    "\n",
    "N장의 카드에 써져 있는 숫자가 주어졌을 때, <br/>M을 넘지 않으면서 M에 최대한 가까운 카드 3장의 합을 구해 출력하시오."
   ]
  },
  {
   "cell_type": "markdown",
   "metadata": {},
   "source": [
    "### 입력"
   ]
  },
  {
   "cell_type": "markdown",
   "metadata": {},
   "source": [
    "첫째 줄에 카드의 개수 N(3 ≤ N ≤ 100)과 M(10 ≤ M ≤ 300,000)이 주어진다. <br/>둘째 줄에는 카드에 쓰여 있는 수가 주어지며, 이 값은 100,000을 넘지 않는 양의 정수이다.<br/>\n",
    "\n",
    "합이 M을 넘지 않는 카드 3장을 찾을 수 있는 경우만 입력으로 주어진다."
   ]
  },
  {
   "cell_type": "markdown",
   "metadata": {},
   "source": [
    "## 문제 풀이"
   ]
  },
  {
   "cell_type": "markdown",
   "metadata": {},
   "source": [
    "#### 이 문제를 부르트포스로 풀어야 하는 이유? by chatGPT"
   ]
  },
  {
   "cell_type": "markdown",
   "metadata": {},
   "source": [
    "1. 카드 수의 제한: 문제에서 주어진 카드의 최대 개수 <br>\n",
    "N이 100장으로 제한되어 있습니다. 이 정도 크기는 브루트포스 탐색이 가능하다는 것을 의미합니다. \n",
    "<br>3장을 선택하는 모든 조합의 수는 nC3 = n^3 이므로 <br>\n",
    "lecture_note.ipynb의 내용을 참고했을 때, 적용 가능한 N의 크기 입니다 <br> \n",
    "\n",
    "\n",
    "2. 문제의 특성: 카드 3장의 합을 구하는 문제는, <br>특정한 최적화를 필요로 하지 않고 모든 가능한 조합을 확인하는 것이 직관적으로 올바른 접근 방법입니다. <br>\n",
    "\n",
    "3. 제약 조건의 단순성: 문제에서 요구하는 조건이 카드의 합이 주어진 값 M을 넘지 않으면서 <br>최대한 가깝게 만드는 것입니다. <br>이 조건은 특정한 패턴이나 구조를 이용해 최적화하기 어렵고, 단순히 모든 조합을 계산하여 <br>조건을 만족하는 최적의 값을 찾는 것이 효과적입니다."
   ]
  },
  {
   "cell_type": "markdown",
   "metadata": {},
   "source": [
    "#### 코드"
   ]
  },
  {
   "cell_type": "code",
   "execution_count": null,
   "metadata": {},
   "outputs": [],
   "source": [
    "import  sys\n",
    "\n",
    "\n",
    "def solve():\n",
    "    n,m = map(int, sys.stdin.readline().split())\n",
    "    # n = 개수 m = 근점해야하는 값\n",
    "    n_list = list(map(int, sys.stdin.readline().split()))\n",
    "    answer = -1 \n",
    "    \n",
    "    for i in range(n):\n",
    "        for j in range(i+1,n):\n",
    "            for k in range(j+1,n):\n",
    "                b_force = n_list[i]+n_list[j]+n_list[k]\n",
    "                \n",
    "                if (b_force <= m) and (b_force > answer):\n",
    "                    answer = b_force\n",
    "    \n",
    "    return answer\n",
    "\n",
    "if __name__ == \"__main__\":\n",
    "    \n",
    "    print(solve())"
   ]
  },
  {
   "cell_type": "markdown",
   "metadata": {},
   "source": [
    "18m 35s 소요"
   ]
  },
  {
   "cell_type": "markdown",
   "metadata": {},
   "source": []
  }
 ],
 "metadata": {
  "language_info": {
   "name": "python"
  }
 },
 "nbformat": 4,
 "nbformat_minor": 2
}
