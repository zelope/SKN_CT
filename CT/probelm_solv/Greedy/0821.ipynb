{
 "cells": [
  {
   "cell_type": "markdown",
   "metadata": {},
   "source": [
    "# BJ 1783 병든 나이트"
   ]
  },
  {
   "cell_type": "markdown",
   "metadata": {},
   "source": [
    "- [링크](https://www.acmicpc.net/problem/1783)"
   ]
  },
  {
   "cell_type": "markdown",
   "metadata": {},
   "source": [
    "## 문제 설명"
   ]
  },
  {
   "cell_type": "markdown",
   "metadata": {},
   "source": [
    "### 문제"
   ]
  },
  {
   "cell_type": "markdown",
   "metadata": {},
   "source": [
    "병든 나이트가 N × M 크기 체스판의 가장 왼쪽아래 칸에 위치해 있다. 병든 나이트는 건강한 보통 체스의 나이트와 다르게 4가지로만 움직일 수 있다.\n",
    "\n",
    "2칸 위로, 1칸 오른쪽   \n",
    "1칸 위로, 2칸 오른쪽   \n",
    "1칸 아래로, 2칸 오른쪽   \n",
    "2칸 아래로, 1칸 오른쪽   \n",
    "\n",
    "병든 나이트는 여행을 시작하려고 하고, 여행을 하면서 방문한 칸의 수를 최대로 하려고 한다. 병든 나이트의 이동 횟수가 4번보다 적지 않다면, 이동 방법을 모두 한 번씩 사용해야 한다. 이동 횟수가 4번보다 적은 경우(방문한 칸이 5개 미만)에는 이동 방법에 대한 제약이 없다.\n",
    "\n",
    "체스판의 크기가 주어졌을 때, 병든 나이트가 여행에서 방문할 수 있는 칸의 최대 개수를 구해보자."
   ]
  },
  {
   "cell_type": "markdown",
   "metadata": {},
   "source": [
    "### 입력"
   ]
  },
  {
   "cell_type": "markdown",
   "metadata": {},
   "source": [
    "첫째 줄에 체스판의 세로 길이 N와 가로 길이 M이 주어진다. N과 M은 2,000,000,000보다 작거나 같은 자연수이다."
   ]
  },
  {
   "cell_type": "markdown",
   "metadata": {},
   "source": [
    "### 출력"
   ]
  },
  {
   "cell_type": "markdown",
   "metadata": {},
   "source": [
    "병든 나이트가 여행에서 방문할 수 있는 칸의 개수중 최댓값을 출력한다."
   ]
  },
  {
   "cell_type": "markdown",
   "metadata": {},
   "source": [
    "## SOLV"
   ]
  },
  {
   "cell_type": "markdown",
   "metadata": {},
   "source": [
    "#### code"
   ]
  },
  {
   "cell_type": "code",
   "execution_count": null,
   "metadata": {},
   "outputs": [],
   "source": [
    "import sys\n",
    "\n",
    "def ailing_night(N,M):\n",
    "    if N == 1:\n",
    "        # 방문한 칸의 개수이고 N=1이면 아예 못움직이니까 \n",
    "        # 처음 방문한 칸\n",
    "        answer = 1\n",
    "        \n",
    "    elif N == 2:\n",
    "        # N = 2이면 상하로 1칸씩 밖에 못움직이니까 dy +- 1 밖에 못씀\n",
    "        # 그리고 M 조건도 있네 그리면 최대 4 구만 그럼 M = 6일때까지 \n",
    "        # dy +- 1 일때는 dx가 무조건 2 이므로\n",
    "        # M = 1 -> 1, M=2 -> 1 M=3 -> 2 .... \n",
    "        answer = min(M+1//2,4)\n",
    "            \n",
    "    else:\n",
    "        # N>=3이 되어야 2칸씩 움직일 수 있음으로 \n",
    "        # \"4가지 경우를 모두 사용해야한다\"라는 명제를 참으로 하기 위한 필요조건\n",
    "        if M < 7:\n",
    "            # 근데 M이 6미만이면 dx의 이동을 다 표현 못함. 그래서 4가지 경우 다 안써도 됨\n",
    "            # 근데 다 dx 1칸 짜리로 이동하면 방문칸이 5가 넘음으로 방문칸의 최대값은 4\n",
    "            answer = min(M,4)\n",
    "        else:\n",
    "            # 6이상이면 무조건 4개다 사용해야한다. \n",
    "            # 근데 방문을 최대로 하려면 dx +2가 각각 단 한번만 나오는 것일 때이므로 \n",
    "            answer = M-2\n",
    "    return answer\n",
    "\n",
    "\n",
    "n,m = map(int, sys.stdin.readline().split())\n",
    "print(ailing_night(n,m))"
   ]
  },
  {
   "cell_type": "markdown",
   "metadata": {},
   "source": [
    "#### 주석"
   ]
  },
  {
   "cell_type": "markdown",
   "metadata": {},
   "source": [
    "##### 풀기 전 가설"
   ]
  },
  {
   "cell_type": "code",
   "execution_count": null,
   "metadata": {},
   "outputs": [],
   "source": [
    "# 병든 나이트가 움직일 수 있는 경우의 수\n",
    "dx = [1,2,2,1] # 싹다 오른쪽\n",
    "dy = [ -2, -1, 1, 2] #위 위 아래 아래\n",
    "\n",
    "#dx를 보면, 계속 오른쪽으로만 이동한다. 이로 인해\n",
    "#1. 종료조건은 병든 체스말이 맨 오른쪽 가장자리 (x = M)일 때 또는 더이상 이동 할 수 없을 때\n",
    "if (next_x > M) or (next_y < 1 and next_y > N) \n",
    "\n",
    "\n",
    "#2. 되돌아 갈 수 없음으로, 현재 최선의 선택이 이후에도 여전히 최적의 선택 (탐욕적 선택 속성) 만족"
   ]
  },
  {
   "cell_type": "markdown",
   "metadata": {},
   "source": [
    "##### 풀고 난 후\n",
    "어... 근데 풀는 중에 보니까 애는 굳이 반복이나 재귀방식 쓰는게 더 비효율적 <br>\n",
    "그냥 규칙 찾아서 품"
   ]
  }
 ],
 "metadata": {
  "language_info": {
   "name": "python"
  }
 },
 "nbformat": 4,
 "nbformat_minor": 2
}
