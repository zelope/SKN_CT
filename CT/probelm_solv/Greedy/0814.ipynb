{
 "cells": [
  {
   "cell_type": "markdown",
   "metadata": {},
   "source": [
    "# Pg Greedy-조이스틱"
   ]
  },
  {
   "cell_type": "markdown",
   "metadata": {},
   "source": [
    "- https://school.programmers.co.kr/learn/courses/30/lessons/42860"
   ]
  },
  {
   "cell_type": "markdown",
   "metadata": {},
   "source": [
    "## 문제 설명"
   ]
  },
  {
   "cell_type": "markdown",
   "metadata": {},
   "source": [
    "### 문제"
   ]
  },
  {
   "cell_type": "markdown",
   "metadata": {},
   "source": [
    "조이스틱으로 알파벳 이름을 완성하세요. 맨 처음엔 A로만 이루어져 있습니다.<br>\n",
    "ex) 완성해야 하는 이름이 세 글자면 AAA, 네 글자면 AAAA\n",
    "\n",
    "조이스틱을 각 방향으로 움직이면 아래와 같습니다."
   ]
  },
  {
   "cell_type": "markdown",
   "metadata": {},
   "source": [
    "▲ - 다음 알파벳<br>\n",
    "▼ - 이전 알파벳 (A에서 아래쪽으로 이동하면 Z로)<br>\n",
    "◀ - 커서를 왼쪽으로 이동 (첫 번째 위치에서 왼쪽으로 이동하면 마지막 문자에 커서)<br>\n",
    "▶ - 커서를 오른쪽으로 이동 (마지막 위치에서 오른쪽으로 이동하면 첫 번째 문자에 커서)<br>"
   ]
  },
  {
   "cell_type": "markdown",
   "metadata": {},
   "source": [
    "예를 들어 아래의 방법으로 \"JAZ\"를 만들 수 있습니다.\n",
    "\n",
    "==========================================================================\n",
    "- 첫 번째 위치에서 조이스틱을 위로 9번 조작하여 J를 완성합니다.\n",
    "- 조이스틱을 왼쪽으로 1번 조작하여 커서를 마지막 문자 위치로 이동시킵니다.\n",
    "- 마지막 위치에서 조이스틱을 아래로 1번 조작하여 Z를 완성합니다.<br>\n",
    "따라서 11번 이동시켜 \"JAZ\"를 만들 수 있고, 이때가 최소 이동입니다."
   ]
  },
  {
   "cell_type": "markdown",
   "metadata": {},
   "source": [
    "만들고자 하는 이름 name이 매개변수로 주어질 때, <br>이름에 대해 조이스틱 조작 횟수의 최솟값을 return 하도록 solution 함수를 만드세요."
   ]
  },
  {
   "cell_type": "markdown",
   "metadata": {},
   "source": [
    "### 입력"
   ]
  },
  {
   "cell_type": "markdown",
   "metadata": {},
   "source": [
    "### 출력"
   ]
  },
  {
   "cell_type": "markdown",
   "metadata": {},
   "source": [
    "## SOLV"
   ]
  },
  {
   "cell_type": "markdown",
   "metadata": {},
   "source": [
    "### 오답 code"
   ]
  },
  {
   "cell_type": "markdown",
   "metadata": {},
   "source": [
    "#### 코드"
   ]
  },
  {
   "cell_type": "code",
   "execution_count": null,
   "metadata": {},
   "outputs": [],
   "source": [
    "import re\n",
    "def _cnt_updown(name_chr:str) -> int:\n",
    "    answer = ord(name_chr) - ord(\"A\")\n",
    "    if answer > 12:\n",
    "        answer = 26 - answer\n",
    "    \n",
    "    return answer\n",
    "\n",
    "def _cnt_rightleft(name:str) -> int:\n",
    "    pattern = r\"A+\"\n",
    "    matches = re.findall(pattern,name)\n",
    "    if matches:\n",
    "        cnt_A = max(len(match) for match in matches)\n",
    "    else:\n",
    "        cnt_A = 0\n",
    "    answer = len(name) - (cnt_A+1)\n",
    "    if answer < 0:\n",
    "        answer = 0\n",
    "    return answer\n",
    "\n",
    "\n",
    "def solution(name):\n",
    "    answer = _cnt_rightleft(name)\n",
    "    for n_chr in name:\n",
    "        answer += _cnt_updown(n_chr)\n",
    "    return answer\n"
   ]
  },
  {
   "cell_type": "markdown",
   "metadata": {},
   "source": [
    "#### 틀린 이유\n",
    "\n",
    "        # 1. 이전 커서 이동 값 ( 초기값 - 이름의 길이 - 1 )\n",
    "        # 2. 연속된 A의 왼쪽 시작\n",
    "        # 3. 연속된 A의 오른쪽 시작\n",
    "을 고려했어야했는데\n",
    "1, 2만 고려함"
   ]
  },
  {
   "cell_type": "markdown",
   "metadata": {},
   "source": [
    "### 정답 code"
   ]
  },
  {
   "cell_type": "markdown",
   "metadata": {},
   "source": [
    "#### 수정사항\n",
    "1. greedy 알고리즘에서는 min과 max를 적극 활용해라\n",
    "2. "
   ]
  },
  {
   "cell_type": "markdown",
   "metadata": {},
   "source": [
    "\n",
    "import re\n",
    "def _cnt_updown(name_chr:str) -> int:\n",
    "    answer = ord(name_chr) - ord(\"A\")\n",
    "    if answer > 12:\n",
    "        answer = 26 - answer\n",
    "    \n",
    "    return answer\n",
    "\n",
    "def _cnt_rightleft(name:str) -> int:\n",
    "    pattern = r\"A+\"\n",
    "    matches = re.findall(pattern,name)\n",
    "    if matches:\n",
    "        cnt_A = max(len(match) for match in matches)\n",
    "    else:\n",
    "        cnt_A = 0\n",
    "    answer = len(name) - (cnt_A+1)\n",
    "    if answer < 0:\n",
    "        answer = 0\n",
    "    return answer\n",
    "\n",
    "\n",
    "def solution(name):\n",
    "    answer = _cnt_rightleft(name)\n",
    "    for n_chr in name:\n",
    "        answer += _cnt_updown(n_chr)\n",
    "    return answer\n",
    "\n"
   ]
  },
  {
   "cell_type": "markdown",
   "metadata": {},
   "source": [
    "#### 코드"
   ]
  },
  {
   "cell_type": "code",
   "execution_count": null,
   "metadata": {},
   "outputs": [],
   "source": [
    "def solution(name):\n",
    "    \n",
    "    # 알파벳 변경 횟수( 상하 이동 ) \n",
    "    spell_move = 0\n",
    "    \n",
    "    # 커서 이동 횟수, 이름의 길이 - 1( 좌우 이동 )\n",
    "    cursor_move = len(name) - 1  \n",
    "    \n",
    "    \n",
    "    for i, spell in enumerate(name):\n",
    "    \t# 알파벳 변경 횟수, 위아래 중 최소 이동 값 ( 상하 이동 )\n",
    "        # -> _cnt_updown을 min을 이용해 바꿈\n",
    "        spell_move += min(ord(spell) - ord('A'), ord('Z') - ord(spell) + 1)\n",
    "        \n",
    "        # 해당 알파벳 다음부터 연속된 A 문자열 찾기\n",
    "        next = i + 1\n",
    "        while next < len(name) and name[next] == 'A':\n",
    "            next += 1\n",
    "            \n",
    "        # 아래 3가지 경우 중 최소 이동 값으로 갱신\n",
    "        # 1. 이전 커서 이동 값 ( 초기값 - 이름의 길이 - 1 )\n",
    "        # 2. 연속된 A의 왼쪽 시작\n",
    "        # 3. 연속된 A의 오른쪽 시작\n",
    "        cursor_move = min([ cursor_move, 2 * i + len(name) - next, i + 2 * (len(name) - next) ])\n",
    "        \n",
    "        \n",
    "    # 조이스틱 조작 횟수 = 알파벳 변경 횟수( 상하 이동 ) + 커서 이동 횟수( 좌우 이동 )    \n",
    "    return spell_move + cursor_move"
   ]
  },
  {
   "cell_type": "markdown",
   "metadata": {},
   "source": [
    "#### Cursor_move 추가설명\n",
    "\n",
    "이름의 각 위치 `i`에서 `name[i]`가 'A'가 아닌 경우, 함수는 'A'의 연속된 시퀀스가 있는지를 고려하여 잠재적인 절약을 평가합니다. 세 가지 가능한 커서 이동을 계산합니다:\n",
    "\n",
    "#### **시나리오 1: 시작에서 끝까지 이동 (직선 이동)**\n",
    "- 이는 단순히 커서를 첫 번째 문자에서 마지막 문자까지 이동시키는 것으로, `len(name) - 1` 이동이 필요합니다.\n",
    "\n",
    "**예시**:  \n",
    "문자열 `\"JAZAAAZ\"`에서 커서는 6단계 이동합니다 (인덱스 0에서 6까지).\n",
    "\n",
    "#### **시나리오 2: 왼쪽으로 건너뛰고 오른쪽으로 이동**\n",
    "- 여기서는 'A'의 시퀀스 바로 앞 위치로 이동한 후, 다시 시작으로 돌아가서 끝까지 이동합니다.\n",
    "\n",
    "위치 `i`에서 이 시나리오는 다음과 같이 계산됩니다:\n",
    "\n",
    "    2 * i + len(name) - next\n",
    "\n",
    "- `2 * i`는 위치 `i`까지 오른쪽으로 이동한 후, 다시 시작으로 돌아가는 이동을 나타냅니다 (따라서 `2 * i`).\n",
    "- `len(name) - next`는 'A'를 건너뛴 후 남은 거리를 나타냅니다.\n",
    "\n",
    "**예시**:  \n",
    "문자열 `\"JAZAAAZ\"`에서 'Z'에 도달한 후 (인덱스 2), 다시 시작 (인덱스 0)으로 돌아가서 인덱스 6까지 직접 이동할 수 있습니다 (연속된 'AAA'를 건너뛰기). 이 값은 다음과 같습니다:\n",
    "\n",
    "    2 * 2 + 7 - 5 = 4 + 2 = 6\n",
    "\n",
    "이것은 직선 이동과 일치하지만, 다른 경우에는 더 나을 수 있습니다.\n",
    "\n",
    "#### **시나리오 3: 오른쪽으로 건너뛰고 왼쪽으로 이동**\n",
    "- 여기서는 'A'의 시퀀스를 건너뛰고 가장 오른쪽의 비-'A' 문자로 이동한 후, 남은 문자를 커버하기 위해 왼쪽으로 이동합니다.\n",
    "\n",
    "위치 `i`에서 이 시나리오는 다음과 같이 계산됩니다:\n",
    "\n",
    "    i + 2 * (len(name) - next)\n",
    "\n",
    "- `i`는 위치 `i`까지 오른쪽으로 이동하는 것을 나타냅니다.\n",
    "- `2 * (len(name) - next)`는 가장 오른쪽의 비-'A'로 이동한 후, 왼쪽으로 돌아가는 이동\n"
   ]
  },
  {
   "cell_type": "markdown",
   "metadata": {},
   "source": []
  }
 ],
 "metadata": {
  "language_info": {
   "name": "python"
  }
 },
 "nbformat": 4,
 "nbformat_minor": 2
}
