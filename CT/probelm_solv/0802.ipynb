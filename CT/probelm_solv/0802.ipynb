{
 "cells": [
  {
   "cell_type": "markdown",
   "metadata": {},
   "source": [
    "# BJ 18110번 - solved.ac"
   ]
  },
  {
   "cell_type": "markdown",
   "metadata": {},
   "source": [
    "- https://www.acmicpc.net/problem/18110"
   ]
  },
  {
   "cell_type": "markdown",
   "metadata": {},
   "source": [
    "### 문제 "
   ]
  },
  {
   "cell_type": "markdown",
   "metadata": {},
   "source": [
    "#### 문제"
   ]
  },
  {
   "cell_type": "markdown",
   "metadata": {},
   "source": [
    "solved.ac는 Sogang ICPC Team 학회원들의 알고리즘 공부에 도움을 주고자 만든 서비스이다. 지금은 서강대뿐만 아니라 수많은 사람들이 solved.ac의 도움을 받아 알고리즘 공부를 하고 있다.\n",
    "\n",
    "\n",
    "\n",
    "ICPC Team은 백준 온라인 저지에서 문제풀이를 연습하는데, 백준 온라인 저지의 문제들에는 난이도 표기가 없어서, 지금까지는 다양한 문제를 풀어 보고 싶더라도 난이도를 가늠하기 어려워 무슨 문제를 풀어야 할지 판단하기 곤란했기 때문에 solved.ac가 만들어졌다. solved.ac가 생긴 이후 전국에서 200명 이상의 기여자 분들께서 소중한 난이도 의견을 공유해 주셨고, 지금은 약 7,000문제에 난이도 표기가 붙게 되었다.\n",
    "\n",
    "어떤 문제의 난이도는 그 문제를 푼 사람들이 제출한 난이도 의견을 바탕으로 결정한다. 난이도 의견은 그 사용자가 생각한 난이도를 의미하는 정수 하나로 주어진다. solved.ac가 사용자들의 의견을 바탕으로 난이도를 결정하는 방식은 다음과 같다.\n",
    "\n",
    "----------------------------------------------------------------------------------------------------------------------------\n",
    "아직 아무 의견이 없다면 문제의 난이도는 0으로 결정한다.<br>\n",
    "의견이 하나 이상 있다면, 문제의 난이도는 모든 사람의 난이도 의견의 30% 절사평균으로 결정한다.<br>\n",
    "\n",
    "절사평균이란 극단적인 값들이 평균을 왜곡하는 것을 막기 위해 가장 큰 값들과 가장 작은 값들을 제외하고 평균을 내는 것을 말한다. <br>30% 절사평균의 경우 위에서 **15%**, 아래에서 **15%** 를 각각 제외하고 평균을 계산한다. <br>따라서 20명이 투표했다면, 가장 높은 난이도에 투표한 3명과 가장 낮은 난이도에 투표한 3명의 투표는 평균 계산에 반영하지 않는다는 것이다.<br>\n",
    "\n",
    "**제외되는 사람의 수는 위, 아래에서 각각 반올림한다.** 25명이 투표한 경우 위, 아래에서 각각 3.75명을 제외해야 하는데, 이 경우 반올림해 4명씩을 제외한다.\n",
    "\n",
    "마지막으로, **계산된 평균도 정수로 반올림된다.** 절사평균이 16.7이었다면 최종 난이도는 17이 된다.\n",
    "\n",
    "사용자들이 어떤 문제에 제출한 난이도 의견 목록이 주어질 때, solved.ac가 결정한 문제의 난이도를 계산하는 프로그램을 작성하시오."
   ]
  },
  {
   "cell_type": "markdown",
   "metadata": {},
   "source": [
    "#### 입력"
   ]
  },
  {
   "cell_type": "markdown",
   "metadata": {},
   "source": [
    "첫 번째 줄에 난이도 의견의 개수 n이 주어진다. (0 ≤ n ≤ 3 × 105)\n",
    "\n",
    "이후 두 번째 줄부터 1 + n번째 줄까지 사용자들이 제출한 난이도 의견 n개가 한 줄에 하나씩 주어진다. 모든 난이도 의견은 1 이상 30 이하이다."
   ]
  },
  {
   "cell_type": "markdown",
   "metadata": {},
   "source": [
    "#### 출력"
   ]
  },
  {
   "cell_type": "markdown",
   "metadata": {},
   "source": [
    "solved.ac가 계산한 문제의 난이도를 출력한다."
   ]
  },
  {
   "cell_type": "markdown",
   "metadata": {},
   "source": [
    "### 코드"
   ]
  },
  {
   "cell_type": "markdown",
   "metadata": {},
   "source": [
    "#### 오답"
   ]
  },
  {
   "cell_type": "code",
   "execution_count": null,
   "metadata": {},
   "outputs": [],
   "source": [
    "#입력 받고 -> 정렬하고\n",
    "# 위 아래 0.15씩 반올림한 만큼 삭제 \n",
    "# 평균 구하고 역시 반올림\n",
    "N = int(input())\n",
    "if N==0:\n",
    "    answer = 0\n",
    "else:\n",
    "    #입력받고\n",
    "    score_list = [int(input()) for _ in range(N)]\n",
    "    #정렬하고\n",
    "    score_list.sort()\n",
    "    #위 아래 0.15씩 삭제하고\n",
    "    trim = round(N*0.15)\n",
    "    trimed_list = score_list[trim:-1*trim]\n",
    "    if len(trimed_list) != 0:\n",
    "        #평균 구하고\n",
    "        avg = sum(trimed_list)/len(trimed_list)\n",
    "\n",
    "        #평균도 반올림하고\n",
    "        answer = round(avg)\n",
    "    else:\n",
    "        answer = 0 \n",
    "print(answer)"
   ]
  },
  {
   "cell_type": "markdown",
   "metadata": {},
   "source": [
    "인 줄 알았는데....... <br>\n",
    "\n",
    "![image.png](../img/18110%20error.png) <br>\n",
    "\n",
    "?"
   ]
  },
  {
   "cell_type": "markdown",
   "metadata": {},
   "source": [
    "#### 정답"
   ]
  },
  {
   "cell_type": "markdown",
   "metadata": {},
   "source": [
    "lecture_note.ipynb에 더 자세하게 적어놓았지만, <br>\n",
    "파이썬에서 반올림할 때 사용하는 round()는 우리가 아는 반올림이 아니다 ( ~~???~~ ) <br>\n",
    "그래서 함수 직접 만들어야됨"
   ]
  },
  {
   "cell_type": "code",
   "execution_count": null,
   "metadata": {},
   "outputs": [],
   "source": [
    "#시간초과로 한번 더 틀려서 sys로 한번 더 뜯어 고친건 안 비밀\n",
    "import sys\n",
    "\n",
    "def my_round(val):\n",
    "  if val - int(val) >= 0.5:\n",
    "    return int(val)+1\n",
    "  else:\n",
    "    return int(val)\n",
    "\n",
    "N = int(sys.stdin.readline().strip())\n",
    "if N:\n",
    "  score_list = [int(sys.stdin.readline().strip()) for _ in range(N)]\n",
    "\n",
    "  trim = my_round(N*0.15)\n",
    "  score_list.sort()\n",
    "  \n",
    "  print(my_round(sum(score_list[trim:N-trim])/len(score_list[trim:N-trim])))\n",
    "else:\n",
    "  print(0)"
   ]
  }
 ],
 "metadata": {
  "language_info": {
   "name": "python"
  }
 },
 "nbformat": 4,
 "nbformat_minor": 2
}
