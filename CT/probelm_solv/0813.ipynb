{
 "cells": [
  {
   "cell_type": "markdown",
   "metadata": {},
   "source": [
    "# BJ 2630번 - 색종이 만들기"
   ]
  },
  {
   "cell_type": "markdown",
   "metadata": {},
   "source": [
    "- [링크](https://www.acmicpc.net/problem/2630)"
   ]
  },
  {
   "cell_type": "markdown",
   "metadata": {},
   "source": [
    "## 문제 설명"
   ]
  },
  {
   "cell_type": "markdown",
   "metadata": {},
   "source": [
    "### 문제"
   ]
  },
  {
   "cell_type": "markdown",
   "metadata": {},
   "source": [
    "### 입력"
   ]
  },
  {
   "cell_type": "markdown",
   "metadata": {},
   "source": [
    "### 출력"
   ]
  },
  {
   "cell_type": "markdown",
   "metadata": {},
   "source": [
    " <br>"
   ]
  },
  {
   "cell_type": "markdown",
   "metadata": {},
   "source": [
    "## SOLV"
   ]
  },
  {
   "cell_type": "markdown",
   "metadata": {},
   "source": [
    "#### code"
   ]
  },
  {
   "cell_type": "code",
   "execution_count": null,
   "metadata": {},
   "outputs": [],
   "source": [
    "import sys\n",
    "N = int(input())\n",
    "arr = [list(map(int, sys.stdin.readline().split())) for _ in range(N)]\n",
    "\n",
    "count_white = 0\n",
    "count_blue = 0\n",
    "\n",
    "def check_square(x, y, n):\n",
    "    global count_blue, count_white\n",
    "    color = arr[x][y]\n",
    "    for i in range(x, x+n):\n",
    "        for j in range(y, y+n):\n",
    "            if arr[i][j] != color:\n",
    "                check_square(x, y, n//2)\n",
    "                check_square(x+n//2, y, n//2)\n",
    "                check_square(x, y+n//2, n//2)\n",
    "                check_square(x+n//2, y+n//2, n//2)\n",
    "                return\n",
    "            \n",
    "            \n",
    "    if color == 1:\n",
    "        count_blue += 1\n",
    "    else:\n",
    "        count_white += 1\n",
    "\n",
    "\n",
    "check_square(0, 0, N)\n",
    "print(count_white)\n",
    "print(count_blue)"
   ]
  },
  {
   "cell_type": "markdown",
   "metadata": {},
   "source": [
    "#### 주석"
   ]
  },
  {
   "cell_type": "markdown",
   "metadata": {},
   "source": [
    "문제의 궁극적인 목적은 <br>\n",
    "**구역 안에 다른 색상이 없는가(같은색상만 있는가)** <br>\n",
    "\n",
    "이 부분이 base case가 되는 것이다 <br>\n",
    "\n",
    "(1) Divide\n",
    "다행이 문제에서 주어졌다<br>\n",
    "_전체 종이가 모두 같은 색으로 칠해져 있지 않으면 가로와 세로로 중간 부분을 잘라서 <br>똑같은 크기의 네 개의 N/2 × N/2색종이로 나눈다_<br>"
   ]
  },
  {
   "cell_type": "markdown",
   "metadata": {},
   "source": [
    "(2) Conquer   \n",
    "나누어진 각 부분 문제를 해결(정복)하는 Conquer단계<br>\n",
    "\n",
    "각각의 사분면에 대해서도 내부적으로 수행하여하므로 재귀함수 형태"
   ]
  },
  {
   "cell_type": "code",
   "execution_count": null,
   "metadata": {},
   "outputs": [],
   "source": [
    "color = arr[x][y]\n",
    "for i in range(x, x+n):\n",
    "    for j in range(y, y+n):\n",
    "        if arr[i][j] != color:\n",
    "            check_square(x, y, n//2) #2사분면\n",
    "            check_square(x+n//2, y, n//2) #1사분면\n",
    "            check_square(x, y+n//2, n//2) #3사분면\n",
    "            check_square(x+n//2, y+n//2, n//2) #4사분면\n",
    "            return"
   ]
  },
  {
   "cell_type": "markdown",
   "metadata": {},
   "source": [
    "(3) Combine   \n",
    "해결한 부분 문제들을 합쳐 기존 문제를 해결하는 Combine단계"
   ]
  },
  {
   "cell_type": "code",
   "execution_count": null,
   "metadata": {},
   "outputs": [],
   "source": [
    "    if color == 1:\n",
    "        count_blue += 1\n",
    "#메인 코드를 보면, if arr[i][j] != color: 에 안걸려야 이게 실행된다\n",
    "    else:\n",
    "        count_white += 1"
   ]
  }
 ],
 "metadata": {
  "language_info": {
   "name": "python"
  }
 },
 "nbformat": 4,
 "nbformat_minor": 2
}
